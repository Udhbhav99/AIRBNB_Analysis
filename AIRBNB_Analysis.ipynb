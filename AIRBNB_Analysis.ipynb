{
  "nbformat": 4,
  "nbformat_minor": 0,
  "metadata": {
    "colab": {
      "provenance": []
    },
    "kernelspec": {
      "name": "python3",
      "display_name": "Python 3"
    },
    "language_info": {
      "name": "python"
    }
  },
  "cells": [
    {
      "cell_type": "code",
      "source": [
        "import pandas as pd\n",
        "import seaborn as sns\n",
        "import matplotlib.pyplot as plt"
      ],
      "metadata": {
        "id": "R2vxEwvgD4fh"
      },
      "execution_count": null,
      "outputs": []
    },
    {
      "cell_type": "code",
      "source": [
        "pip install pymongo"
      ],
      "metadata": {
        "id": "WHm1QuAT5IMl",
        "colab": {
          "base_uri": "https://localhost:8080/"
        },
        "outputId": "36e3cacb-b63b-451f-e699-fc657d92cb6d"
      },
      "execution_count": null,
      "outputs": [
        {
          "output_type": "stream",
          "name": "stdout",
          "text": [
            "Collecting pymongo\n",
            "  Downloading pymongo-4.7.2-cp310-cp310-manylinux_2_17_x86_64.manylinux2014_x86_64.whl (670 kB)\n",
            "\u001b[2K     \u001b[90m━━━━━━━━━━━━━━━━━━━━━━━━━━━━━━━━━━━━━━━━\u001b[0m \u001b[32m670.0/670.0 kB\u001b[0m \u001b[31m8.1 MB/s\u001b[0m eta \u001b[36m0:00:00\u001b[0m\n",
            "\u001b[?25hCollecting dnspython<3.0.0,>=1.16.0 (from pymongo)\n",
            "  Downloading dnspython-2.6.1-py3-none-any.whl (307 kB)\n",
            "\u001b[2K     \u001b[90m━━━━━━━━━━━━━━━━━━━━━━━━━━━━━━━━━━━━━━━━\u001b[0m \u001b[32m307.7/307.7 kB\u001b[0m \u001b[31m14.1 MB/s\u001b[0m eta \u001b[36m0:00:00\u001b[0m\n",
            "\u001b[?25hInstalling collected packages: dnspython, pymongo\n",
            "Successfully installed dnspython-2.6.1 pymongo-4.7.2\n"
          ]
        }
      ]
    },
    {
      "cell_type": "code",
      "source": [
        "from pymongo import MongoClient"
      ],
      "metadata": {
        "id": "gJLhvcQs469U"
      },
      "execution_count": null,
      "outputs": []
    },
    {
      "cell_type": "markdown",
      "source": [
        "#DATA EXTRACTION"
      ],
      "metadata": {
        "id": "RBfECH5I7G-f"
      }
    },
    {
      "cell_type": "code",
      "source": [
        "conn=",
        "client=MongoClient(conn)\n"
      ],
      "metadata": {
        "id": "Jg7_y1Jv5Dts"
      },
      "execution_count": null,
      "outputs": []
    },
    {
      "cell_type": "code",
      "source": [
        "db=client['sample_airbnb']\n",
        "col=db['listingsAndReviews']"
      ],
      "metadata": {
        "id": "bveREVLa7cZO"
      },
      "execution_count": null,
      "outputs": []
    },
    {
      "cell_type": "code",
      "source": [
        "all_data=[]\n",
        "for i in col.find():\n",
        "  data= dict(id=i['_id'],\n",
        "             listing_url=i['listing_url'],\n",
        "             summary=i['summary'],\n",
        "             description=i['description'],\n",
        "             space=i['space'],\n",
        "             rules=i['house_rules'],\n",
        "             property_type=i['property_type'],\n",
        "             Room_type = i['room_type'],\n",
        "             Bed_type = i['bed_type'],\n",
        "             Min_nights = int(i['minimum_nights']),\n",
        "             Max_nights = int(i['maximum_nights']),\n",
        "             Cancellation_policy = i['cancellation_policy'],\n",
        "             Accomodates = i['accommodates'],\n",
        "             Total_bedrooms = i.get('bedrooms'),\n",
        "             Total_beds = i.get('beds'),\n",
        "             Availability_365 = i['availability']['availability_365'],\n",
        "             Price = i['price'],\n",
        "             Security_deposit = i.get('security_deposit'),\n",
        "             Cleaning_fee = i.get('cleaning_fee'),\n",
        "             Extra_people = i['extra_people'],\n",
        "             Guests_included= i['guests_included'],\n",
        "             No_of_reviews = i['number_of_reviews'],\n",
        "             Review_scores = i['review_scores'].get('review_scores_rating'),\n",
        "             Amenities = ', '.join(i['amenities']),\n",
        "             Host_id = i['host']['host_id'],\n",
        "             Host_name = i['host']['host_name'],\n",
        "             Street = i['address']['street'],\n",
        "             Country = i['address']['country'],\n",
        "             Country_code = i['address']['country_code'],\n",
        "             Location_type = i['address']['location']['type'],\n",
        "             Longitude = i['address']['location']['coordinates'][0],\n",
        "             Latitude = i['address']['location']['coordinates'][1],\n",
        "             Is_location_exact = i['address']['location']['is_location_exact']\n",
        "             )\n",
        "  all_data.append(data)"
      ],
      "metadata": {
        "id": "z7AQSaki7uJy"
      },
      "execution_count": null,
      "outputs": []
    },
    {
      "cell_type": "code",
      "source": [
        "df=pd.DataFrame(all_data)\n"
      ],
      "metadata": {
        "id": "NpL9IPnb8f_u"
      },
      "execution_count": null,
      "outputs": []
    },
    {
      "cell_type": "markdown",
      "source": [
        "## Data cleaning and Preprocessing"
      ],
      "metadata": {
        "id": "CBIjXeppOAtD"
      }
    },
    {
      "cell_type": "code",
      "source": [
        "df.head(3)"
      ],
      "metadata": {
        "colab": {
          "base_uri": "https://localhost:8080/",
          "height": 523
        },
        "id": "WzR4YP3SOhKB",
        "outputId": "7d45fa37-19d4-4940-e5a8-b988d9b1744d"
      },
      "execution_count": null,
      "outputs": [
        {
          "output_type": "execute_result",
          "data": {
            "text/plain": [
              "         id                            listing_url  \\\n",
              "0  10006546  https://www.airbnb.com/rooms/10006546   \n",
              "1  10009999  https://www.airbnb.com/rooms/10009999   \n",
              "2   1001265   https://www.airbnb.com/rooms/1001265   \n",
              "\n",
              "                                             summary  \\\n",
              "0  Fantastic duplex apartment with three bedrooms...   \n",
              "1  One bedroom + sofa-bed in quiet and bucolic ne...   \n",
              "2  A short distance from Honolulu's billion dolla...   \n",
              "\n",
              "                                         description  \\\n",
              "0  Fantastic duplex apartment with three bedrooms...   \n",
              "1  One bedroom + sofa-bed in quiet and bucolic ne...   \n",
              "2  A short distance from Honolulu's billion dolla...   \n",
              "\n",
              "                                               space  \\\n",
              "0  Privileged views of the Douro River and Ribeir...   \n",
              "1  Lovely one bedroom + sofa-bed in the living ro...   \n",
              "2  Great studio located on Ala Moana across the s...   \n",
              "\n",
              "                                               rules property_type  \\\n",
              "0                        Make the house your home...         House   \n",
              "1  I just hope the guests treat the space as they...     Apartment   \n",
              "2  The general welfare and well being of all the ...   Condominium   \n",
              "\n",
              "         Room_type  Bed_type  Min_nights  ...  \\\n",
              "0  Entire home/apt  Real Bed           2  ...   \n",
              "1  Entire home/apt  Real Bed           2  ...   \n",
              "2  Entire home/apt  Real Bed           3  ...   \n",
              "\n",
              "                                           Amenities   Host_id    Host_name  \\\n",
              "0  TV, Cable TV, Wifi, Kitchen, Paid parking off ...  51399391  Ana&Gonçalo   \n",
              "1  Wifi, Wheelchair accessible, Kitchen, Free par...   1282196        Ynaie   \n",
              "2  TV, Cable TV, Wifi, Air conditioning, Pool, Ki...   5448114        David   \n",
              "\n",
              "                                   Street        Country  Country_code  \\\n",
              "0                  Porto, Porto, Portugal       Portugal            PT   \n",
              "1  Rio de Janeiro, Rio de Janeiro, Brazil         Brazil            BR   \n",
              "2             Honolulu, HI, United States  United States            US   \n",
              "\n",
              "  Location_type  Longitude   Latitude Is_location_exact  \n",
              "0         Point   -8.61308  41.141300             False  \n",
              "1         Point  -43.23075 -22.966254              True  \n",
              "2         Point -157.83919  21.286340              True  \n",
              "\n",
              "[3 rows x 33 columns]"
            ],
            "text/html": [
              "\n",
              "  <div id=\"df-e0b9725c-47c0-4692-ae1f-81800c49c7f9\" class=\"colab-df-container\">\n",
              "    <div>\n",
              "<style scoped>\n",
              "    .dataframe tbody tr th:only-of-type {\n",
              "        vertical-align: middle;\n",
              "    }\n",
              "\n",
              "    .dataframe tbody tr th {\n",
              "        vertical-align: top;\n",
              "    }\n",
              "\n",
              "    .dataframe thead th {\n",
              "        text-align: right;\n",
              "    }\n",
              "</style>\n",
              "<table border=\"1\" class=\"dataframe\">\n",
              "  <thead>\n",
              "    <tr style=\"text-align: right;\">\n",
              "      <th></th>\n",
              "      <th>id</th>\n",
              "      <th>listing_url</th>\n",
              "      <th>summary</th>\n",
              "      <th>description</th>\n",
              "      <th>space</th>\n",
              "      <th>rules</th>\n",
              "      <th>property_type</th>\n",
              "      <th>Room_type</th>\n",
              "      <th>Bed_type</th>\n",
              "      <th>Min_nights</th>\n",
              "      <th>...</th>\n",
              "      <th>Amenities</th>\n",
              "      <th>Host_id</th>\n",
              "      <th>Host_name</th>\n",
              "      <th>Street</th>\n",
              "      <th>Country</th>\n",
              "      <th>Country_code</th>\n",
              "      <th>Location_type</th>\n",
              "      <th>Longitude</th>\n",
              "      <th>Latitude</th>\n",
              "      <th>Is_location_exact</th>\n",
              "    </tr>\n",
              "  </thead>\n",
              "  <tbody>\n",
              "    <tr>\n",
              "      <th>0</th>\n",
              "      <td>10006546</td>\n",
              "      <td>https://www.airbnb.com/rooms/10006546</td>\n",
              "      <td>Fantastic duplex apartment with three bedrooms...</td>\n",
              "      <td>Fantastic duplex apartment with three bedrooms...</td>\n",
              "      <td>Privileged views of the Douro River and Ribeir...</td>\n",
              "      <td>Make the house your home...</td>\n",
              "      <td>House</td>\n",
              "      <td>Entire home/apt</td>\n",
              "      <td>Real Bed</td>\n",
              "      <td>2</td>\n",
              "      <td>...</td>\n",
              "      <td>TV, Cable TV, Wifi, Kitchen, Paid parking off ...</td>\n",
              "      <td>51399391</td>\n",
              "      <td>Ana&amp;Gonçalo</td>\n",
              "      <td>Porto, Porto, Portugal</td>\n",
              "      <td>Portugal</td>\n",
              "      <td>PT</td>\n",
              "      <td>Point</td>\n",
              "      <td>-8.61308</td>\n",
              "      <td>41.141300</td>\n",
              "      <td>False</td>\n",
              "    </tr>\n",
              "    <tr>\n",
              "      <th>1</th>\n",
              "      <td>10009999</td>\n",
              "      <td>https://www.airbnb.com/rooms/10009999</td>\n",
              "      <td>One bedroom + sofa-bed in quiet and bucolic ne...</td>\n",
              "      <td>One bedroom + sofa-bed in quiet and bucolic ne...</td>\n",
              "      <td>Lovely one bedroom + sofa-bed in the living ro...</td>\n",
              "      <td>I just hope the guests treat the space as they...</td>\n",
              "      <td>Apartment</td>\n",
              "      <td>Entire home/apt</td>\n",
              "      <td>Real Bed</td>\n",
              "      <td>2</td>\n",
              "      <td>...</td>\n",
              "      <td>Wifi, Wheelchair accessible, Kitchen, Free par...</td>\n",
              "      <td>1282196</td>\n",
              "      <td>Ynaie</td>\n",
              "      <td>Rio de Janeiro, Rio de Janeiro, Brazil</td>\n",
              "      <td>Brazil</td>\n",
              "      <td>BR</td>\n",
              "      <td>Point</td>\n",
              "      <td>-43.23075</td>\n",
              "      <td>-22.966254</td>\n",
              "      <td>True</td>\n",
              "    </tr>\n",
              "    <tr>\n",
              "      <th>2</th>\n",
              "      <td>1001265</td>\n",
              "      <td>https://www.airbnb.com/rooms/1001265</td>\n",
              "      <td>A short distance from Honolulu's billion dolla...</td>\n",
              "      <td>A short distance from Honolulu's billion dolla...</td>\n",
              "      <td>Great studio located on Ala Moana across the s...</td>\n",
              "      <td>The general welfare and well being of all the ...</td>\n",
              "      <td>Condominium</td>\n",
              "      <td>Entire home/apt</td>\n",
              "      <td>Real Bed</td>\n",
              "      <td>3</td>\n",
              "      <td>...</td>\n",
              "      <td>TV, Cable TV, Wifi, Air conditioning, Pool, Ki...</td>\n",
              "      <td>5448114</td>\n",
              "      <td>David</td>\n",
              "      <td>Honolulu, HI, United States</td>\n",
              "      <td>United States</td>\n",
              "      <td>US</td>\n",
              "      <td>Point</td>\n",
              "      <td>-157.83919</td>\n",
              "      <td>21.286340</td>\n",
              "      <td>True</td>\n",
              "    </tr>\n",
              "  </tbody>\n",
              "</table>\n",
              "<p>3 rows × 33 columns</p>\n",
              "</div>\n",
              "    <div class=\"colab-df-buttons\">\n",
              "\n",
              "  <div class=\"colab-df-container\">\n",
              "    <button class=\"colab-df-convert\" onclick=\"convertToInteractive('df-e0b9725c-47c0-4692-ae1f-81800c49c7f9')\"\n",
              "            title=\"Convert this dataframe to an interactive table.\"\n",
              "            style=\"display:none;\">\n",
              "\n",
              "  <svg xmlns=\"http://www.w3.org/2000/svg\" height=\"24px\" viewBox=\"0 -960 960 960\">\n",
              "    <path d=\"M120-120v-720h720v720H120Zm60-500h600v-160H180v160Zm220 220h160v-160H400v160Zm0 220h160v-160H400v160ZM180-400h160v-160H180v160Zm440 0h160v-160H620v160ZM180-180h160v-160H180v160Zm440 0h160v-160H620v160Z\"/>\n",
              "  </svg>\n",
              "    </button>\n",
              "\n",
              "  <style>\n",
              "    .colab-df-container {\n",
              "      display:flex;\n",
              "      gap: 12px;\n",
              "    }\n",
              "\n",
              "    .colab-df-convert {\n",
              "      background-color: #E8F0FE;\n",
              "      border: none;\n",
              "      border-radius: 50%;\n",
              "      cursor: pointer;\n",
              "      display: none;\n",
              "      fill: #1967D2;\n",
              "      height: 32px;\n",
              "      padding: 0 0 0 0;\n",
              "      width: 32px;\n",
              "    }\n",
              "\n",
              "    .colab-df-convert:hover {\n",
              "      background-color: #E2EBFA;\n",
              "      box-shadow: 0px 1px 2px rgba(60, 64, 67, 0.3), 0px 1px 3px 1px rgba(60, 64, 67, 0.15);\n",
              "      fill: #174EA6;\n",
              "    }\n",
              "\n",
              "    .colab-df-buttons div {\n",
              "      margin-bottom: 4px;\n",
              "    }\n",
              "\n",
              "    [theme=dark] .colab-df-convert {\n",
              "      background-color: #3B4455;\n",
              "      fill: #D2E3FC;\n",
              "    }\n",
              "\n",
              "    [theme=dark] .colab-df-convert:hover {\n",
              "      background-color: #434B5C;\n",
              "      box-shadow: 0px 1px 3px 1px rgba(0, 0, 0, 0.15);\n",
              "      filter: drop-shadow(0px 1px 2px rgba(0, 0, 0, 0.3));\n",
              "      fill: #FFFFFF;\n",
              "    }\n",
              "  </style>\n",
              "\n",
              "    <script>\n",
              "      const buttonEl =\n",
              "        document.querySelector('#df-e0b9725c-47c0-4692-ae1f-81800c49c7f9 button.colab-df-convert');\n",
              "      buttonEl.style.display =\n",
              "        google.colab.kernel.accessAllowed ? 'block' : 'none';\n",
              "\n",
              "      async function convertToInteractive(key) {\n",
              "        const element = document.querySelector('#df-e0b9725c-47c0-4692-ae1f-81800c49c7f9');\n",
              "        const dataTable =\n",
              "          await google.colab.kernel.invokeFunction('convertToInteractive',\n",
              "                                                    [key], {});\n",
              "        if (!dataTable) return;\n",
              "\n",
              "        const docLinkHtml = 'Like what you see? Visit the ' +\n",
              "          '<a target=\"_blank\" href=https://colab.research.google.com/notebooks/data_table.ipynb>data table notebook</a>'\n",
              "          + ' to learn more about interactive tables.';\n",
              "        element.innerHTML = '';\n",
              "        dataTable['output_type'] = 'display_data';\n",
              "        await google.colab.output.renderOutput(dataTable, element);\n",
              "        const docLink = document.createElement('div');\n",
              "        docLink.innerHTML = docLinkHtml;\n",
              "        element.appendChild(docLink);\n",
              "      }\n",
              "    </script>\n",
              "  </div>\n",
              "\n",
              "\n",
              "<div id=\"df-116c23fd-c1d2-49d1-9c5c-ee52a6b64583\">\n",
              "  <button class=\"colab-df-quickchart\" onclick=\"quickchart('df-116c23fd-c1d2-49d1-9c5c-ee52a6b64583')\"\n",
              "            title=\"Suggest charts\"\n",
              "            style=\"display:none;\">\n",
              "\n",
              "<svg xmlns=\"http://www.w3.org/2000/svg\" height=\"24px\"viewBox=\"0 0 24 24\"\n",
              "     width=\"24px\">\n",
              "    <g>\n",
              "        <path d=\"M19 3H5c-1.1 0-2 .9-2 2v14c0 1.1.9 2 2 2h14c1.1 0 2-.9 2-2V5c0-1.1-.9-2-2-2zM9 17H7v-7h2v7zm4 0h-2V7h2v10zm4 0h-2v-4h2v4z\"/>\n",
              "    </g>\n",
              "</svg>\n",
              "  </button>\n",
              "\n",
              "<style>\n",
              "  .colab-df-quickchart {\n",
              "      --bg-color: #E8F0FE;\n",
              "      --fill-color: #1967D2;\n",
              "      --hover-bg-color: #E2EBFA;\n",
              "      --hover-fill-color: #174EA6;\n",
              "      --disabled-fill-color: #AAA;\n",
              "      --disabled-bg-color: #DDD;\n",
              "  }\n",
              "\n",
              "  [theme=dark] .colab-df-quickchart {\n",
              "      --bg-color: #3B4455;\n",
              "      --fill-color: #D2E3FC;\n",
              "      --hover-bg-color: #434B5C;\n",
              "      --hover-fill-color: #FFFFFF;\n",
              "      --disabled-bg-color: #3B4455;\n",
              "      --disabled-fill-color: #666;\n",
              "  }\n",
              "\n",
              "  .colab-df-quickchart {\n",
              "    background-color: var(--bg-color);\n",
              "    border: none;\n",
              "    border-radius: 50%;\n",
              "    cursor: pointer;\n",
              "    display: none;\n",
              "    fill: var(--fill-color);\n",
              "    height: 32px;\n",
              "    padding: 0;\n",
              "    width: 32px;\n",
              "  }\n",
              "\n",
              "  .colab-df-quickchart:hover {\n",
              "    background-color: var(--hover-bg-color);\n",
              "    box-shadow: 0 1px 2px rgba(60, 64, 67, 0.3), 0 1px 3px 1px rgba(60, 64, 67, 0.15);\n",
              "    fill: var(--button-hover-fill-color);\n",
              "  }\n",
              "\n",
              "  .colab-df-quickchart-complete:disabled,\n",
              "  .colab-df-quickchart-complete:disabled:hover {\n",
              "    background-color: var(--disabled-bg-color);\n",
              "    fill: var(--disabled-fill-color);\n",
              "    box-shadow: none;\n",
              "  }\n",
              "\n",
              "  .colab-df-spinner {\n",
              "    border: 2px solid var(--fill-color);\n",
              "    border-color: transparent;\n",
              "    border-bottom-color: var(--fill-color);\n",
              "    animation:\n",
              "      spin 1s steps(1) infinite;\n",
              "  }\n",
              "\n",
              "  @keyframes spin {\n",
              "    0% {\n",
              "      border-color: transparent;\n",
              "      border-bottom-color: var(--fill-color);\n",
              "      border-left-color: var(--fill-color);\n",
              "    }\n",
              "    20% {\n",
              "      border-color: transparent;\n",
              "      border-left-color: var(--fill-color);\n",
              "      border-top-color: var(--fill-color);\n",
              "    }\n",
              "    30% {\n",
              "      border-color: transparent;\n",
              "      border-left-color: var(--fill-color);\n",
              "      border-top-color: var(--fill-color);\n",
              "      border-right-color: var(--fill-color);\n",
              "    }\n",
              "    40% {\n",
              "      border-color: transparent;\n",
              "      border-right-color: var(--fill-color);\n",
              "      border-top-color: var(--fill-color);\n",
              "    }\n",
              "    60% {\n",
              "      border-color: transparent;\n",
              "      border-right-color: var(--fill-color);\n",
              "    }\n",
              "    80% {\n",
              "      border-color: transparent;\n",
              "      border-right-color: var(--fill-color);\n",
              "      border-bottom-color: var(--fill-color);\n",
              "    }\n",
              "    90% {\n",
              "      border-color: transparent;\n",
              "      border-bottom-color: var(--fill-color);\n",
              "    }\n",
              "  }\n",
              "</style>\n",
              "\n",
              "  <script>\n",
              "    async function quickchart(key) {\n",
              "      const quickchartButtonEl =\n",
              "        document.querySelector('#' + key + ' button');\n",
              "      quickchartButtonEl.disabled = true;  // To prevent multiple clicks.\n",
              "      quickchartButtonEl.classList.add('colab-df-spinner');\n",
              "      try {\n",
              "        const charts = await google.colab.kernel.invokeFunction(\n",
              "            'suggestCharts', [key], {});\n",
              "      } catch (error) {\n",
              "        console.error('Error during call to suggestCharts:', error);\n",
              "      }\n",
              "      quickchartButtonEl.classList.remove('colab-df-spinner');\n",
              "      quickchartButtonEl.classList.add('colab-df-quickchart-complete');\n",
              "    }\n",
              "    (() => {\n",
              "      let quickchartButtonEl =\n",
              "        document.querySelector('#df-116c23fd-c1d2-49d1-9c5c-ee52a6b64583 button');\n",
              "      quickchartButtonEl.style.display =\n",
              "        google.colab.kernel.accessAllowed ? 'block' : 'none';\n",
              "    })();\n",
              "  </script>\n",
              "</div>\n",
              "\n",
              "    </div>\n",
              "  </div>\n"
            ],
            "application/vnd.google.colaboratory.intrinsic+json": {
              "type": "dataframe",
              "variable_name": "df"
            }
          },
          "metadata": {},
          "execution_count": 8
        }
      ]
    },
    {
      "cell_type": "code",
      "source": [
        "df.dtypes"
      ],
      "metadata": {
        "colab": {
          "base_uri": "https://localhost:8080/"
        },
        "id": "bP36c1GfBLHm",
        "outputId": "4d570c5c-d084-4a60-939c-c13891215fef"
      },
      "execution_count": null,
      "outputs": [
        {
          "output_type": "execute_result",
          "data": {
            "text/plain": [
              "id                      object\n",
              "listing_url             object\n",
              "summary                 object\n",
              "description             object\n",
              "space                   object\n",
              "rules                   object\n",
              "property_type           object\n",
              "Room_type               object\n",
              "Bed_type                object\n",
              "Min_nights               int64\n",
              "Max_nights               int64\n",
              "Cancellation_policy     object\n",
              "Accomodates              int64\n",
              "Total_bedrooms         float64\n",
              "Total_beds             float64\n",
              "Availability_365         int64\n",
              "Price                   object\n",
              "Security_deposit        object\n",
              "Cleaning_fee            object\n",
              "Extra_people            object\n",
              "Guests_included         object\n",
              "No_of_reviews            int64\n",
              "Review_scores          float64\n",
              "Amenities               object\n",
              "Host_id                 object\n",
              "Host_name               object\n",
              "Street                  object\n",
              "Country                 object\n",
              "Country_code            object\n",
              "Location_type           object\n",
              "Longitude              float64\n",
              "Latitude               float64\n",
              "Is_location_exact         bool\n",
              "dtype: object"
            ]
          },
          "metadata": {},
          "execution_count": 9
        }
      ]
    },
    {
      "cell_type": "code",
      "source": [
        "# changing data types"
      ],
      "metadata": {
        "id": "q9f0t1lPBOqb"
      },
      "execution_count": null,
      "outputs": []
    },
    {
      "cell_type": "code",
      "source": [
        "df.isna().sum()"
      ],
      "metadata": {
        "colab": {
          "base_uri": "https://localhost:8080/"
        },
        "id": "TFuvAoen4A_A",
        "outputId": "8c03bbfa-c760-4508-ac79-b7d11dc0ce17"
      },
      "execution_count": null,
      "outputs": [
        {
          "output_type": "execute_result",
          "data": {
            "text/plain": [
              "id                        0\n",
              "listing_url               0\n",
              "summary                   0\n",
              "description               0\n",
              "space                     0\n",
              "rules                     0\n",
              "property_type             0\n",
              "Room_type                 0\n",
              "Bed_type                  0\n",
              "Min_nights                0\n",
              "Max_nights                0\n",
              "Cancellation_policy       0\n",
              "Accomodates               0\n",
              "Total_bedrooms            5\n",
              "Total_beds               13\n",
              "Availability_365          0\n",
              "Price                     0\n",
              "Security_deposit       2084\n",
              "Cleaning_fee           1531\n",
              "Extra_people              0\n",
              "Guests_included           0\n",
              "No_of_reviews             0\n",
              "Review_scores          1474\n",
              "Amenities                 0\n",
              "Host_id                   0\n",
              "Host_name                 0\n",
              "Street                    0\n",
              "Country                   0\n",
              "Country_code              0\n",
              "Location_type             0\n",
              "Longitude                 0\n",
              "Latitude                  0\n",
              "Is_location_exact         0\n",
              "dtype: int64"
            ]
          },
          "metadata": {},
          "execution_count": 11
        }
      ]
    },
    {
      "cell_type": "code",
      "source": [
        "df.Price = df.Price.astype(str).astype(float)\n",
        "df.Security_deposit = df.Security_deposit[~df.Security_deposit.isna()].astype(str).astype(float)\n",
        "df.Cleaning_fee = df.Cleaning_fee[~df.Cleaning_fee.isna()].astype(str).astype(float)\n",
        "df.Extra_people = df.Extra_people.astype(str).astype(float)\n",
        "df.Guests_included = df.Guests_included.astype(str).astype(float)"
      ],
      "metadata": {
        "id": "ZOj-PyXRPP--"
      },
      "execution_count": null,
      "outputs": []
    },
    {
      "cell_type": "code",
      "source": [
        "df.Review_scores = df.Review_scores.astype('Int64')"
      ],
      "metadata": {
        "id": "fSoDutSL5GmM"
      },
      "execution_count": null,
      "outputs": []
    },
    {
      "cell_type": "code",
      "source": [],
      "metadata": {
        "id": "PSHRZx-sQirn"
      },
      "execution_count": null,
      "outputs": []
    },
    {
      "cell_type": "code",
      "source": [
        "df.isna().sum()"
      ],
      "metadata": {
        "colab": {
          "base_uri": "https://localhost:8080/"
        },
        "id": "WLEOKPtq1f_4",
        "outputId": "b8c663bb-26af-4cc5-ac55-e9b88f3d965a"
      },
      "execution_count": null,
      "outputs": [
        {
          "output_type": "execute_result",
          "data": {
            "text/plain": [
              "id                        0\n",
              "listing_url               0\n",
              "summary                   0\n",
              "description               0\n",
              "space                     0\n",
              "rules                     0\n",
              "property_type             0\n",
              "Room_type                 0\n",
              "Bed_type                  0\n",
              "Min_nights                0\n",
              "Max_nights                0\n",
              "Cancellation_policy       0\n",
              "Accomodates               0\n",
              "Total_bedrooms            5\n",
              "Total_beds               13\n",
              "Availability_365          0\n",
              "Price                     0\n",
              "Security_deposit       2084\n",
              "Cleaning_fee           1531\n",
              "Extra_people              0\n",
              "Guests_included           0\n",
              "No_of_reviews             0\n",
              "Review_scores          1474\n",
              "Amenities                 0\n",
              "Host_id                   0\n",
              "Host_name                 0\n",
              "Street                    0\n",
              "Country                   0\n",
              "Country_code              0\n",
              "Location_type             0\n",
              "Longitude                 0\n",
              "Latitude                  0\n",
              "Is_location_exact         0\n",
              "dtype: int64"
            ]
          },
          "metadata": {},
          "execution_count": 14
        }
      ]
    },
    {
      "cell_type": "code",
      "source": [
        "#missing values"
      ],
      "metadata": {
        "id": "cefg5OCs3O9g"
      },
      "execution_count": null,
      "outputs": []
    },
    {
      "cell_type": "code",
      "source": [],
      "metadata": {
        "id": "T4dQbl5i68jl"
      },
      "execution_count": null,
      "outputs": []
    },
    {
      "cell_type": "code",
      "source": [
        "#total bedrooms to be filled with mode\n",
        "df.Total_bedrooms.fillna(df.Total_bedrooms.mode()[0], inplace=True)\n",
        "#total beds filled with median\n",
        "df.Total_beds.fillna(df.Total_beds.median(), inplace=True)\n",
        "df.Security_deposit.fillna(df.Security_deposit.median(),inplace=True)\n",
        "df.Cleaning_fee.fillna(df.Cleaning_fee.median(),inplace=True)\n",
        "df.Review_scores.fillna(df.Review_scores.median(),inplace=True)"
      ],
      "metadata": {
        "id": "MYEPt2jL3d0Q"
      },
      "execution_count": null,
      "outputs": []
    },
    {
      "cell_type": "code",
      "source": [
        "df.isna().sum()"
      ],
      "metadata": {
        "colab": {
          "base_uri": "https://localhost:8080/"
        },
        "id": "vw1zWEEo8B-0",
        "outputId": "ec90f2d3-b052-40c7-93d1-27f2dc4b9b37"
      },
      "execution_count": null,
      "outputs": [
        {
          "output_type": "execute_result",
          "data": {
            "text/plain": [
              "id                     0\n",
              "listing_url            0\n",
              "summary                0\n",
              "description            0\n",
              "space                  0\n",
              "rules                  0\n",
              "property_type          0\n",
              "Room_type              0\n",
              "Bed_type               0\n",
              "Min_nights             0\n",
              "Max_nights             0\n",
              "Cancellation_policy    0\n",
              "Accomodates            0\n",
              "Total_bedrooms         0\n",
              "Total_beds             0\n",
              "Availability_365       0\n",
              "Price                  0\n",
              "Security_deposit       0\n",
              "Cleaning_fee           0\n",
              "Extra_people           0\n",
              "Guests_included        0\n",
              "No_of_reviews          0\n",
              "Review_scores          0\n",
              "Amenities              0\n",
              "Host_id                0\n",
              "Host_name              0\n",
              "Street                 0\n",
              "Country                0\n",
              "Country_code           0\n",
              "Location_type          0\n",
              "Longitude              0\n",
              "Latitude               0\n",
              "Is_location_exact      0\n",
              "dtype: int64"
            ]
          },
          "metadata": {},
          "execution_count": 17
        }
      ]
    },
    {
      "cell_type": "code",
      "source": [
        "#checking for duplicates\n",
        "df.duplicated().value_counts()"
      ],
      "metadata": {
        "colab": {
          "base_uri": "https://localhost:8080/"
        },
        "id": "0ExZ79ce8Ez4",
        "outputId": "ae255939-83f5-4fb4-f5bb-98aaaaa54656"
      },
      "execution_count": null,
      "outputs": [
        {
          "output_type": "execute_result",
          "data": {
            "text/plain": [
              "False    5555\n",
              "Name: count, dtype: int64"
            ]
          },
          "metadata": {},
          "execution_count": 18
        }
      ]
    },
    {
      "cell_type": "code",
      "source": [
        "# No duplicates"
      ],
      "metadata": {
        "id": "sYGI2al3BvL7"
      },
      "execution_count": null,
      "outputs": []
    },
    {
      "cell_type": "code",
      "source": [
        "df.head(2)"
      ],
      "metadata": {
        "colab": {
          "base_uri": "https://localhost:8080/",
          "height": 387
        },
        "id": "2SOiWYc4B-7f",
        "outputId": "0cbb92d6-9102-4d5c-b152-3962491c2f1e"
      },
      "execution_count": null,
      "outputs": [
        {
          "output_type": "execute_result",
          "data": {
            "text/plain": [
              "         id                            listing_url  \\\n",
              "0  10006546  https://www.airbnb.com/rooms/10006546   \n",
              "1  10009999  https://www.airbnb.com/rooms/10009999   \n",
              "\n",
              "                                             summary  \\\n",
              "0  Fantastic duplex apartment with three bedrooms...   \n",
              "1  One bedroom + sofa-bed in quiet and bucolic ne...   \n",
              "\n",
              "                                         description  \\\n",
              "0  Fantastic duplex apartment with three bedrooms...   \n",
              "1  One bedroom + sofa-bed in quiet and bucolic ne...   \n",
              "\n",
              "                                               space  \\\n",
              "0  Privileged views of the Douro River and Ribeir...   \n",
              "1  Lovely one bedroom + sofa-bed in the living ro...   \n",
              "\n",
              "                                               rules property_type  \\\n",
              "0                        Make the house your home...         House   \n",
              "1  I just hope the guests treat the space as they...     Apartment   \n",
              "\n",
              "         Room_type  Bed_type  Min_nights  ...  \\\n",
              "0  Entire home/apt  Real Bed           2  ...   \n",
              "1  Entire home/apt  Real Bed           2  ...   \n",
              "\n",
              "                                           Amenities   Host_id    Host_name  \\\n",
              "0  TV, Cable TV, Wifi, Kitchen, Paid parking off ...  51399391  Ana&Gonçalo   \n",
              "1  Wifi, Wheelchair accessible, Kitchen, Free par...   1282196        Ynaie   \n",
              "\n",
              "                                   Street   Country  Country_code  \\\n",
              "0                  Porto, Porto, Portugal  Portugal            PT   \n",
              "1  Rio de Janeiro, Rio de Janeiro, Brazil    Brazil            BR   \n",
              "\n",
              "   Location_type  Longitude   Latitude  Is_location_exact  \n",
              "0          Point   -8.61308  41.141300              False  \n",
              "1          Point  -43.23075 -22.966254               True  \n",
              "\n",
              "[2 rows x 33 columns]"
            ],
            "text/html": [
              "\n",
              "  <div id=\"df-aed23eff-f327-41bb-b002-40a40c80cb1c\" class=\"colab-df-container\">\n",
              "    <div>\n",
              "<style scoped>\n",
              "    .dataframe tbody tr th:only-of-type {\n",
              "        vertical-align: middle;\n",
              "    }\n",
              "\n",
              "    .dataframe tbody tr th {\n",
              "        vertical-align: top;\n",
              "    }\n",
              "\n",
              "    .dataframe thead th {\n",
              "        text-align: right;\n",
              "    }\n",
              "</style>\n",
              "<table border=\"1\" class=\"dataframe\">\n",
              "  <thead>\n",
              "    <tr style=\"text-align: right;\">\n",
              "      <th></th>\n",
              "      <th>id</th>\n",
              "      <th>listing_url</th>\n",
              "      <th>summary</th>\n",
              "      <th>description</th>\n",
              "      <th>space</th>\n",
              "      <th>rules</th>\n",
              "      <th>property_type</th>\n",
              "      <th>Room_type</th>\n",
              "      <th>Bed_type</th>\n",
              "      <th>Min_nights</th>\n",
              "      <th>...</th>\n",
              "      <th>Amenities</th>\n",
              "      <th>Host_id</th>\n",
              "      <th>Host_name</th>\n",
              "      <th>Street</th>\n",
              "      <th>Country</th>\n",
              "      <th>Country_code</th>\n",
              "      <th>Location_type</th>\n",
              "      <th>Longitude</th>\n",
              "      <th>Latitude</th>\n",
              "      <th>Is_location_exact</th>\n",
              "    </tr>\n",
              "  </thead>\n",
              "  <tbody>\n",
              "    <tr>\n",
              "      <th>0</th>\n",
              "      <td>10006546</td>\n",
              "      <td>https://www.airbnb.com/rooms/10006546</td>\n",
              "      <td>Fantastic duplex apartment with three bedrooms...</td>\n",
              "      <td>Fantastic duplex apartment with three bedrooms...</td>\n",
              "      <td>Privileged views of the Douro River and Ribeir...</td>\n",
              "      <td>Make the house your home...</td>\n",
              "      <td>House</td>\n",
              "      <td>Entire home/apt</td>\n",
              "      <td>Real Bed</td>\n",
              "      <td>2</td>\n",
              "      <td>...</td>\n",
              "      <td>TV, Cable TV, Wifi, Kitchen, Paid parking off ...</td>\n",
              "      <td>51399391</td>\n",
              "      <td>Ana&amp;Gonçalo</td>\n",
              "      <td>Porto, Porto, Portugal</td>\n",
              "      <td>Portugal</td>\n",
              "      <td>PT</td>\n",
              "      <td>Point</td>\n",
              "      <td>-8.61308</td>\n",
              "      <td>41.141300</td>\n",
              "      <td>False</td>\n",
              "    </tr>\n",
              "    <tr>\n",
              "      <th>1</th>\n",
              "      <td>10009999</td>\n",
              "      <td>https://www.airbnb.com/rooms/10009999</td>\n",
              "      <td>One bedroom + sofa-bed in quiet and bucolic ne...</td>\n",
              "      <td>One bedroom + sofa-bed in quiet and bucolic ne...</td>\n",
              "      <td>Lovely one bedroom + sofa-bed in the living ro...</td>\n",
              "      <td>I just hope the guests treat the space as they...</td>\n",
              "      <td>Apartment</td>\n",
              "      <td>Entire home/apt</td>\n",
              "      <td>Real Bed</td>\n",
              "      <td>2</td>\n",
              "      <td>...</td>\n",
              "      <td>Wifi, Wheelchair accessible, Kitchen, Free par...</td>\n",
              "      <td>1282196</td>\n",
              "      <td>Ynaie</td>\n",
              "      <td>Rio de Janeiro, Rio de Janeiro, Brazil</td>\n",
              "      <td>Brazil</td>\n",
              "      <td>BR</td>\n",
              "      <td>Point</td>\n",
              "      <td>-43.23075</td>\n",
              "      <td>-22.966254</td>\n",
              "      <td>True</td>\n",
              "    </tr>\n",
              "  </tbody>\n",
              "</table>\n",
              "<p>2 rows × 33 columns</p>\n",
              "</div>\n",
              "    <div class=\"colab-df-buttons\">\n",
              "\n",
              "  <div class=\"colab-df-container\">\n",
              "    <button class=\"colab-df-convert\" onclick=\"convertToInteractive('df-aed23eff-f327-41bb-b002-40a40c80cb1c')\"\n",
              "            title=\"Convert this dataframe to an interactive table.\"\n",
              "            style=\"display:none;\">\n",
              "\n",
              "  <svg xmlns=\"http://www.w3.org/2000/svg\" height=\"24px\" viewBox=\"0 -960 960 960\">\n",
              "    <path d=\"M120-120v-720h720v720H120Zm60-500h600v-160H180v160Zm220 220h160v-160H400v160Zm0 220h160v-160H400v160ZM180-400h160v-160H180v160Zm440 0h160v-160H620v160ZM180-180h160v-160H180v160Zm440 0h160v-160H620v160Z\"/>\n",
              "  </svg>\n",
              "    </button>\n",
              "\n",
              "  <style>\n",
              "    .colab-df-container {\n",
              "      display:flex;\n",
              "      gap: 12px;\n",
              "    }\n",
              "\n",
              "    .colab-df-convert {\n",
              "      background-color: #E8F0FE;\n",
              "      border: none;\n",
              "      border-radius: 50%;\n",
              "      cursor: pointer;\n",
              "      display: none;\n",
              "      fill: #1967D2;\n",
              "      height: 32px;\n",
              "      padding: 0 0 0 0;\n",
              "      width: 32px;\n",
              "    }\n",
              "\n",
              "    .colab-df-convert:hover {\n",
              "      background-color: #E2EBFA;\n",
              "      box-shadow: 0px 1px 2px rgba(60, 64, 67, 0.3), 0px 1px 3px 1px rgba(60, 64, 67, 0.15);\n",
              "      fill: #174EA6;\n",
              "    }\n",
              "\n",
              "    .colab-df-buttons div {\n",
              "      margin-bottom: 4px;\n",
              "    }\n",
              "\n",
              "    [theme=dark] .colab-df-convert {\n",
              "      background-color: #3B4455;\n",
              "      fill: #D2E3FC;\n",
              "    }\n",
              "\n",
              "    [theme=dark] .colab-df-convert:hover {\n",
              "      background-color: #434B5C;\n",
              "      box-shadow: 0px 1px 3px 1px rgba(0, 0, 0, 0.15);\n",
              "      filter: drop-shadow(0px 1px 2px rgba(0, 0, 0, 0.3));\n",
              "      fill: #FFFFFF;\n",
              "    }\n",
              "  </style>\n",
              "\n",
              "    <script>\n",
              "      const buttonEl =\n",
              "        document.querySelector('#df-aed23eff-f327-41bb-b002-40a40c80cb1c button.colab-df-convert');\n",
              "      buttonEl.style.display =\n",
              "        google.colab.kernel.accessAllowed ? 'block' : 'none';\n",
              "\n",
              "      async function convertToInteractive(key) {\n",
              "        const element = document.querySelector('#df-aed23eff-f327-41bb-b002-40a40c80cb1c');\n",
              "        const dataTable =\n",
              "          await google.colab.kernel.invokeFunction('convertToInteractive',\n",
              "                                                    [key], {});\n",
              "        if (!dataTable) return;\n",
              "\n",
              "        const docLinkHtml = 'Like what you see? Visit the ' +\n",
              "          '<a target=\"_blank\" href=https://colab.research.google.com/notebooks/data_table.ipynb>data table notebook</a>'\n",
              "          + ' to learn more about interactive tables.';\n",
              "        element.innerHTML = '';\n",
              "        dataTable['output_type'] = 'display_data';\n",
              "        await google.colab.output.renderOutput(dataTable, element);\n",
              "        const docLink = document.createElement('div');\n",
              "        docLink.innerHTML = docLinkHtml;\n",
              "        element.appendChild(docLink);\n",
              "      }\n",
              "    </script>\n",
              "  </div>\n",
              "\n",
              "\n",
              "<div id=\"df-e33c50e2-a8cc-490b-b89e-66c6e478f29c\">\n",
              "  <button class=\"colab-df-quickchart\" onclick=\"quickchart('df-e33c50e2-a8cc-490b-b89e-66c6e478f29c')\"\n",
              "            title=\"Suggest charts\"\n",
              "            style=\"display:none;\">\n",
              "\n",
              "<svg xmlns=\"http://www.w3.org/2000/svg\" height=\"24px\"viewBox=\"0 0 24 24\"\n",
              "     width=\"24px\">\n",
              "    <g>\n",
              "        <path d=\"M19 3H5c-1.1 0-2 .9-2 2v14c0 1.1.9 2 2 2h14c1.1 0 2-.9 2-2V5c0-1.1-.9-2-2-2zM9 17H7v-7h2v7zm4 0h-2V7h2v10zm4 0h-2v-4h2v4z\"/>\n",
              "    </g>\n",
              "</svg>\n",
              "  </button>\n",
              "\n",
              "<style>\n",
              "  .colab-df-quickchart {\n",
              "      --bg-color: #E8F0FE;\n",
              "      --fill-color: #1967D2;\n",
              "      --hover-bg-color: #E2EBFA;\n",
              "      --hover-fill-color: #174EA6;\n",
              "      --disabled-fill-color: #AAA;\n",
              "      --disabled-bg-color: #DDD;\n",
              "  }\n",
              "\n",
              "  [theme=dark] .colab-df-quickchart {\n",
              "      --bg-color: #3B4455;\n",
              "      --fill-color: #D2E3FC;\n",
              "      --hover-bg-color: #434B5C;\n",
              "      --hover-fill-color: #FFFFFF;\n",
              "      --disabled-bg-color: #3B4455;\n",
              "      --disabled-fill-color: #666;\n",
              "  }\n",
              "\n",
              "  .colab-df-quickchart {\n",
              "    background-color: var(--bg-color);\n",
              "    border: none;\n",
              "    border-radius: 50%;\n",
              "    cursor: pointer;\n",
              "    display: none;\n",
              "    fill: var(--fill-color);\n",
              "    height: 32px;\n",
              "    padding: 0;\n",
              "    width: 32px;\n",
              "  }\n",
              "\n",
              "  .colab-df-quickchart:hover {\n",
              "    background-color: var(--hover-bg-color);\n",
              "    box-shadow: 0 1px 2px rgba(60, 64, 67, 0.3), 0 1px 3px 1px rgba(60, 64, 67, 0.15);\n",
              "    fill: var(--button-hover-fill-color);\n",
              "  }\n",
              "\n",
              "  .colab-df-quickchart-complete:disabled,\n",
              "  .colab-df-quickchart-complete:disabled:hover {\n",
              "    background-color: var(--disabled-bg-color);\n",
              "    fill: var(--disabled-fill-color);\n",
              "    box-shadow: none;\n",
              "  }\n",
              "\n",
              "  .colab-df-spinner {\n",
              "    border: 2px solid var(--fill-color);\n",
              "    border-color: transparent;\n",
              "    border-bottom-color: var(--fill-color);\n",
              "    animation:\n",
              "      spin 1s steps(1) infinite;\n",
              "  }\n",
              "\n",
              "  @keyframes spin {\n",
              "    0% {\n",
              "      border-color: transparent;\n",
              "      border-bottom-color: var(--fill-color);\n",
              "      border-left-color: var(--fill-color);\n",
              "    }\n",
              "    20% {\n",
              "      border-color: transparent;\n",
              "      border-left-color: var(--fill-color);\n",
              "      border-top-color: var(--fill-color);\n",
              "    }\n",
              "    30% {\n",
              "      border-color: transparent;\n",
              "      border-left-color: var(--fill-color);\n",
              "      border-top-color: var(--fill-color);\n",
              "      border-right-color: var(--fill-color);\n",
              "    }\n",
              "    40% {\n",
              "      border-color: transparent;\n",
              "      border-right-color: var(--fill-color);\n",
              "      border-top-color: var(--fill-color);\n",
              "    }\n",
              "    60% {\n",
              "      border-color: transparent;\n",
              "      border-right-color: var(--fill-color);\n",
              "    }\n",
              "    80% {\n",
              "      border-color: transparent;\n",
              "      border-right-color: var(--fill-color);\n",
              "      border-bottom-color: var(--fill-color);\n",
              "    }\n",
              "    90% {\n",
              "      border-color: transparent;\n",
              "      border-bottom-color: var(--fill-color);\n",
              "    }\n",
              "  }\n",
              "</style>\n",
              "\n",
              "  <script>\n",
              "    async function quickchart(key) {\n",
              "      const quickchartButtonEl =\n",
              "        document.querySelector('#' + key + ' button');\n",
              "      quickchartButtonEl.disabled = true;  // To prevent multiple clicks.\n",
              "      quickchartButtonEl.classList.add('colab-df-spinner');\n",
              "      try {\n",
              "        const charts = await google.colab.kernel.invokeFunction(\n",
              "            'suggestCharts', [key], {});\n",
              "      } catch (error) {\n",
              "        console.error('Error during call to suggestCharts:', error);\n",
              "      }\n",
              "      quickchartButtonEl.classList.remove('colab-df-spinner');\n",
              "      quickchartButtonEl.classList.add('colab-df-quickchart-complete');\n",
              "    }\n",
              "    (() => {\n",
              "      let quickchartButtonEl =\n",
              "        document.querySelector('#df-e33c50e2-a8cc-490b-b89e-66c6e478f29c button');\n",
              "      quickchartButtonEl.style.display =\n",
              "        google.colab.kernel.accessAllowed ? 'block' : 'none';\n",
              "    })();\n",
              "  </script>\n",
              "</div>\n",
              "\n",
              "    </div>\n",
              "  </div>\n"
            ],
            "application/vnd.google.colaboratory.intrinsic+json": {
              "type": "dataframe",
              "variable_name": "df"
            }
          },
          "metadata": {},
          "execution_count": 20
        }
      ]
    },
    {
      "cell_type": "code",
      "source": [],
      "metadata": {
        "id": "jXaJLPaiCrDh"
      },
      "execution_count": null,
      "outputs": []
    },
    {
      "cell_type": "markdown",
      "source": [
        "#EDA"
      ],
      "metadata": {
        "id": "B6UIj5-7C9W7"
      }
    },
    {
      "cell_type": "code",
      "source": [
        "#percentage of property types\n",
        "df.property_type.value_counts(normalize=True).mul(100)"
      ],
      "metadata": {
        "colab": {
          "base_uri": "https://localhost:8080/"
        },
        "id": "Keqt4ZiGDAZm",
        "outputId": "615910a8-f706-497b-b5eb-9274ec6dd4e9"
      },
      "execution_count": null,
      "outputs": [
        {
          "output_type": "execute_result",
          "data": {
            "text/plain": [
              "property_type\n",
              "Apartment                 65.274527\n",
              "House                     10.909091\n",
              "Condominium                7.182718\n",
              "Serviced apartment         3.330333\n",
              "Loft                       2.556256\n",
              "Townhouse                  1.944194\n",
              "Guest suite                1.458146\n",
              "Bed and breakfast          1.242124\n",
              "Boutique hotel             0.954095\n",
              "Guesthouse                 0.900090\n",
              "Hostel                     0.612061\n",
              "Villa                      0.576058\n",
              "Hotel                      0.468047\n",
              "Aparthotel                 0.414041\n",
              "Cottage                    0.360036\n",
              "Other                      0.324032\n",
              "Cabin                      0.270027\n",
              "Bungalow                   0.252025\n",
              "Resort                     0.198020\n",
              "Casa particular (Cuba)     0.162016\n",
              "Farm stay                  0.162016\n",
              "Tiny house                 0.126013\n",
              "Nature lodge               0.036004\n",
              "Camper/RV                  0.036004\n",
              "Boat                       0.036004\n",
              "Chalet                     0.036004\n",
              "Earth house                0.018002\n",
              "Barn                       0.018002\n",
              "Hut                        0.018002\n",
              "Treehouse                  0.018002\n",
              "Heritage hotel (India)     0.018002\n",
              "Pension (South Korea)      0.018002\n",
              "Campsite                   0.018002\n",
              "Houseboat                  0.018002\n",
              "Castle                     0.018002\n",
              "Train                      0.018002\n",
              "Name: proportion, dtype: float64"
            ]
          },
          "metadata": {},
          "execution_count": 21
        }
      ]
    },
    {
      "cell_type": "code",
      "source": [
        "# top properties\n",
        "plt.figure(figsize=(8,4))\n",
        "pt_ax=sns.countplot(df, y=\"property_type\",order=df.property_type.value_counts().index[:10])\n",
        "pt_ax.set_title(\"Top 10 property types\")"
      ],
      "metadata": {
        "colab": {
          "base_uri": "https://localhost:8080/",
          "height": 427
        },
        "id": "J6nfdx-tDqtl",
        "outputId": "986e0fd4-fabe-4f81-ed91-31938191c059"
      },
      "execution_count": null,
      "outputs": [
        {
          "output_type": "execute_result",
          "data": {
            "text/plain": [
              "Text(0.5, 1.0, 'Top 10 property types')"
            ]
          },
          "metadata": {},
          "execution_count": 22
        },
        {
          "output_type": "display_data",
          "data": {
            "text/plain": [
              "<Figure size 800x400 with 1 Axes>"
            ],
            "image/png": "[encoded data removed]"
          },
          "metadata": {}
        }
      ]
    },
    {
      "cell_type": "code",
      "source": [
        "#Avg price as per property\n",
        "plt.figure(figsize=(8,4))\n",
        "avg_price_p_type=df.Price.groupby(df.property_type.values).mean()[:10]\n",
        "plt.barh(avg_price_p_type.index,avg_price_p_type.values)\n",
        "plt.xlabel(\"Property Type\")\n",
        "plt.ylabel(\"Avg Price\")\n",
        "plt.title('Mean Price by Property')\n",
        "plt.show()\n"
      ],
      "metadata": {
        "colab": {
          "base_uri": "https://localhost:8080/",
          "height": 410
        },
        "id": "LkARgmxuE-Z5",
        "outputId": "0e37e78b-48b4-46ad-d498-2b1c0b5ba05c"
      },
      "execution_count": null,
      "outputs": [
        {
          "output_type": "display_data",
          "data": {
            "text/plain": [
              "<Figure size 800x400 with 1 Axes>"
            ],
            "image/png": "[encoded data removed]"
          },
          "metadata": {}
        }
      ]
    },
    {
      "cell_type": "code",
      "source": [
        "\n",
        "plt.figure(figsize=(8,4))\n",
        "pt_ax=sns.countplot(df, y=\"Room_type\")\n",
        "pt_ax.set_title(\"Top room types\")"
      ],
      "metadata": {
        "colab": {
          "base_uri": "https://localhost:8080/",
          "height": 427
        },
        "id": "04BL3ZUFOG_z",
        "outputId": "8796c674-182c-4ee1-aa1e-0dfddeecf9dd"
      },
      "execution_count": null,
      "outputs": [
        {
          "output_type": "execute_result",
          "data": {
            "text/plain": [
              "Text(0.5, 1.0, 'Top room types')"
            ]
          },
          "metadata": {},
          "execution_count": 24
        },
        {
          "output_type": "display_data",
          "data": {
            "text/plain": [
              "<Figure size 800x400 with 1 Axes>"
            ],
            "image/png": "[encoded data removed]"
          },
          "metadata": {}
        }
      ]
    },
    {
      "cell_type": "code",
      "source": [
        "df.to_excel(\"airbnb.xlsx\")"
      ],
      "metadata": {
        "id": "l1JC-089TsR2"
      },
      "execution_count": null,
      "outputs": []
    },
    {
      "cell_type": "code",
      "source": [],
      "metadata": {
        "id": "loU8IOMZqfky"
      },
      "execution_count": null,
      "outputs": []
    }
  ]
}
